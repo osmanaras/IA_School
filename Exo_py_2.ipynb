{
 "cells": [
  {
   "cell_type": "code",
   "execution_count": 3,
   "metadata": {
    "scrolled": true
   },
   "outputs": [
    {
     "data": {
      "text/plain": [
       "array([0.60689633, 0.64190196, 0.71242324, 0.06554243, 0.88801487,\n",
       "       0.83249517, 0.41723273, 0.05630398, 0.13546868, 0.58711135])"
      ]
     },
     "execution_count": 3,
     "metadata": {},
     "output_type": "execute_result"
    }
   ],
   "source": [
    "import numpy as np\n",
    "\n",
    "lis = np.random.rand(10)\n",
    "lis"
   ]
  },
  {
   "cell_type": "code",
   "execution_count": 14,
   "metadata": {},
   "outputs": [
    {
     "data": {
      "text/plain": [
       "array([[-1.01391355, -0.27191088, -0.31349362],\n",
       "       [-0.72030391,  1.00419509,  0.79597441]])"
      ]
     },
     "execution_count": 14,
     "metadata": {},
     "output_type": "execute_result"
    }
   ],
   "source": [
    "m = np.random.randn(2,3)\n",
    "m"
   ]
  },
  {
   "cell_type": "code",
   "execution_count": 15,
   "metadata": {},
   "outputs": [
    {
     "data": {
      "text/plain": [
       "array([[43, 43],\n",
       "       [70, 15]])"
      ]
     },
     "execution_count": 15,
     "metadata": {},
     "output_type": "execute_result"
    }
   ],
   "source": [
    "m1 = np.random.randint(1,100, size=(2,2))\n",
    "m1"
   ]
  },
  {
   "cell_type": "code",
   "execution_count": 16,
   "metadata": {},
   "outputs": [
    {
     "data": {
      "text/plain": [
       "array([[1., 0., 0., 0.],\n",
       "       [0., 1., 0., 0.],\n",
       "       [0., 0., 1., 0.],\n",
       "       [0., 0., 0., 1.]])"
      ]
     },
     "execution_count": 16,
     "metadata": {},
     "output_type": "execute_result"
    }
   ],
   "source": [
    "i = np.eye(4)\n",
    "i"
   ]
  },
  {
   "cell_type": "code",
   "execution_count": 17,
   "metadata": {},
   "outputs": [
    {
     "data": {
      "text/plain": [
       "array([[ 4.,  1.,  1.,  1.],\n",
       "       [ 2.,  2.,  0.,  1.],\n",
       "       [-3., -5., -2., -4.],\n",
       "       [ 2.,  1.,  1.,  5.]])"
      ]
     },
     "execution_count": 17,
     "metadata": {},
     "output_type": "execute_result"
    }
   ],
   "source": [
    "v = [1,2,3,4]\n",
    "a = i * v\n",
    "a\n",
    "\n",
    "a[:,0] +=1\n",
    "a[:,3] +=1\n",
    "a[0,1:3] +=1\n",
    "a[3,1:3] +=1\n",
    "a\n",
    "\n",
    "a[:,0] *= 2\n",
    "a\n",
    "\n",
    "a[2,:] -=5\n",
    "a\n",
    "\n"
   ]
  },
  {
   "cell_type": "code",
   "execution_count": 18,
   "metadata": {},
   "outputs": [
    {
     "name": "stdout",
     "output_type": "stream",
     "text": [
      "[[ 0.24193548  0.19354839  0.12903226  0.01612903]\n",
      " [-0.17741935  0.25806452 -0.16129032 -0.14516129]\n",
      " [ 0.33870968 -1.12903226 -0.41935484 -0.17741935]\n",
      " [-0.12903226  0.09677419  0.06451613  0.25806452]]\n",
      "-62.00000000000001\n"
     ]
    }
   ],
   "source": [
    "try:\n",
    "    b = np.linalg.det(a)\n",
    "    if b==0:\n",
    "        raise(\"non inversible\")\n",
    "    a_inv = np.linalg.inv(a)\n",
    "    print(a_inv)\n",
    "    print(b)\n",
    "except TypeError :\n",
    "    pass"
   ]
  },
  {
   "cell_type": "code",
   "execution_count": 19,
   "metadata": {},
   "outputs": [],
   "source": [
    "def symetric(a):\n",
    "    issymetric = True\n",
    "    if(a.shape[0] != a.shape[1]):\n",
    "        print(\"pas matrice carré\")\n",
    "        issymetric = False\n",
    "    else:\n",
    "        for i in range(a.shape[0]):\n",
    "            for j in range(a.shape[1]):\n",
    "                if i!=j:                        # check if index of row (i) is different of index of column (j)\n",
    "                    if a[i,j] != a[j,i]:        # check if the value of the elements at i,j and j,i is the same\n",
    "                        issymetric = False\n",
    "                         \n",
    "    return issymetric            "
   ]
  },
  {
   "cell_type": "code",
   "execution_count": 20,
   "metadata": {},
   "outputs": [
    {
     "name": "stdout",
     "output_type": "stream",
     "text": [
      "False\n"
     ]
    }
   ],
   "source": [
    "print(symetric(a))"
   ]
  },
  {
   "cell_type": "code",
   "execution_count": 21,
   "metadata": {},
   "outputs": [
    {
     "name": "stdout",
     "output_type": "stream",
     "text": [
      "True\n",
      "pas matrice carré\n",
      "False\n",
      "False\n"
     ]
    }
   ],
   "source": [
    "m1 = np.eye(2)\n",
    "m2 = np.random.rand(2,3)\n",
    "m3 = np.random.rand(3,3)\n",
    "print(symetric(m1))\n",
    "print(symetric(m2))\n",
    "print(symetric(m3))"
   ]
  },
  {
   "cell_type": "code",
   "execution_count": 32,
   "metadata": {},
   "outputs": [
    {
     "name": "stdout",
     "output_type": "stream",
     "text": [
      "[[ 0.  1.  1.  1.]\n",
      " [ 2.  1.  0.  1.]\n",
      " [ 2. -5.  2. -4.]\n",
      " [ 2.  1.  1.  3.]]\n",
      "(4, 4)\n"
     ]
    }
   ],
   "source": [
    "print(a)\n",
    "print(a.shape)"
   ]
  },
  {
   "cell_type": "code",
   "execution_count": 31,
   "metadata": {},
   "outputs": [
    {
     "name": "stdout",
     "output_type": "stream",
     "text": [
      "[[ 0.  1.  1.  1.]\n",
      " [ 2.  1.  0.  1.]\n",
      " [ 2. -5.  2. -4.]\n",
      " [ 2.  1.  1.  3.]]\n"
     ]
    }
   ],
   "source": [
    "for i in range(a.shape[0]):\n",
    "    maxi = 0   \n",
    "    index = 0                    # stock the position of the maxi element in the matrix\n",
    "    for j in range(a.shape[1]):\n",
    "        if(a[i,j] >= maxi):        # looking if a[i,j] is superior to the actual maxi\n",
    "            maxi = a[i,j]\n",
    "            index = i\n",
    "    a[i,index] = i               # replace the max value by i\n",
    "\n",
    "\n",
    "print(a)"
   ]
  },
  {
   "cell_type": "raw",
   "metadata": {},
   "source": [
    "Exo 3"
   ]
  },
  {
   "cell_type": "code",
   "execution_count": 1,
   "metadata": {},
   "outputs": [],
   "source": [
    "def high_value(l,n):\n",
    "    l = l.reshape(-1)\n",
    "    a = l.sort()\n",
    "    if n == len(l):\n",
    "        return a[::-1]\n",
    "    else:\n",
    "        start = len(a)-1 - n\n",
    "        end = len(a)-1\n",
    "        b=[]  \n",
    "        for i in range(start,end):\n",
    "            b.append(a[i])\n",
    "        return b[::-1]"
   ]
  },
  {
   "cell_type": "raw",
   "metadata": {},
   "source": [
    " Exo 4\n"
   ]
  },
  {
   "cell_type": "code",
   "execution_count": 10,
   "metadata": {},
   "outputs": [
    {
     "data": {
      "image/png": "[encoded data removed]",
      "text/plain": [
       "<Figure size 432x288 with 1 Axes>"
      ]
     },
     "metadata": {
      "needs_background": "light"
     },
     "output_type": "display_data"
    }
   ],
   "source": [
    "import matplotlib.pyplot as plt\n",
    "\n",
    "def linear_fun(a,b,n):\n",
    "    X = np.linspace(-n,n)\n",
    "    Y = np.linspace(a*(-n)+b,a*n+b)\n",
    "    plt.plot(X,Y,label =\"f(x) = a*x + b\")\n",
    "    plt.title(\"linear function\")\n",
    "    plt.show\n",
    "\n",
    "linear_fun(2,0,10)"
   ]
  },
  {
   "cell_type": "code",
   "execution_count": 28,
   "metadata": {},
   "outputs": [
    {
     "data": {
      "text/plain": [
       "<function matplotlib.pyplot.show(*args, **kw)>"
      ]
     },
     "execution_count": 28,
     "metadata": {},
     "output_type": "execute_result"
    },
    {
     "data": {
      "image/png": "[encoded data removed]",
      "text/plain": [
       "<Figure size 432x288 with 2 Axes>"
      ]
     },
     "metadata": {
      "needs_background": "light"
     },
     "output_type": "display_data"
    }
   ],
   "source": [
    "X = np.linspace(-np.pi, np.pi)\n",
    "#Y = np.linspace(-1,1)\n",
    "plt.figure(1)\n",
    "plt.subplot(121)\n",
    "plt.plot(X,np.sin(X))\n",
    "plt.title(\"Sinus\")\n",
    "plt.subplot(122)\n",
    "plt.plot(X,np.cos(X))\n",
    "plt.title(\"Cosinus\")\n",
    "plt.show"
   ]
  },
  {
   "cell_type": "code",
   "execution_count": 53,
   "metadata": {},
   "outputs": [
    {
     "data": {
      "image/png": "[encoded data removed]",
      "text/plain": [
       "<Figure size 432x288 with 1 Axes>"
      ]
     },
     "metadata": {
      "needs_background": "light"
     },
     "output_type": "display_data"
    }
   ],
   "source": [
    "X = np.linspace(0.5,3)\n",
    "for n in np.arange(-2,3.5,0.5):\n",
    "    plt.plot(X,np.power(X,n),label=\"f(x)=x**\"+str(n))\n",
    "plt.legend()\n",
    "plt.title(\"les puissances\")\n",
    "plt.show()\n"
   ]
  },
  {
   "cell_type": "markdown",
   "metadata": {},
   "source": [
    "Exo 5"
   ]
  },
  {
   "cell_type": "code",
   "execution_count": 2,
   "metadata": {},
   "outputs": [],
   "source": [
    "import pandas as pd\n",
    "import numpy as np"
   ]
  },
  {
   "cell_type": "code",
   "execution_count": 3,
   "metadata": {},
   "outputs": [
    {
     "data": {
      "text/html": [
       "<div>\n",
       "<style scoped>\n",
       "    .dataframe tbody tr th:only-of-type {\n",
       "        vertical-align: middle;\n",
       "    }\n",
       "\n",
       "    .dataframe tbody tr th {\n",
       "        vertical-align: top;\n",
       "    }\n",
       "\n",
       "    .dataframe thead th {\n",
       "        text-align: right;\n",
       "    }\n",
       "</style>\n",
       "<table border=\"1\" class=\"dataframe\">\n",
       "  <thead>\n",
       "    <tr style=\"text-align: right;\">\n",
       "      <th></th>\n",
       "      <th>month_number</th>\n",
       "      <th>facecream</th>\n",
       "      <th>facewash</th>\n",
       "      <th>toothpaste</th>\n",
       "      <th>bathingsoap</th>\n",
       "      <th>shampoo</th>\n",
       "      <th>moisturizer</th>\n",
       "      <th>total_units</th>\n",
       "      <th>total_profit</th>\n",
       "    </tr>\n",
       "  </thead>\n",
       "  <tbody>\n",
       "    <tr>\n",
       "      <th>0</th>\n",
       "      <td>1</td>\n",
       "      <td>2500</td>\n",
       "      <td>1500</td>\n",
       "      <td>5200</td>\n",
       "      <td>9200</td>\n",
       "      <td>1200</td>\n",
       "      <td>1500</td>\n",
       "      <td>21100</td>\n",
       "      <td>211000</td>\n",
       "    </tr>\n",
       "    <tr>\n",
       "      <th>1</th>\n",
       "      <td>2</td>\n",
       "      <td>2630</td>\n",
       "      <td>1200</td>\n",
       "      <td>5100</td>\n",
       "      <td>6100</td>\n",
       "      <td>2100</td>\n",
       "      <td>1200</td>\n",
       "      <td>18330</td>\n",
       "      <td>183300</td>\n",
       "    </tr>\n",
       "    <tr>\n",
       "      <th>2</th>\n",
       "      <td>3</td>\n",
       "      <td>2140</td>\n",
       "      <td>1340</td>\n",
       "      <td>4550</td>\n",
       "      <td>9550</td>\n",
       "      <td>3550</td>\n",
       "      <td>1340</td>\n",
       "      <td>22470</td>\n",
       "      <td>224700</td>\n",
       "    </tr>\n",
       "    <tr>\n",
       "      <th>3</th>\n",
       "      <td>4</td>\n",
       "      <td>3400</td>\n",
       "      <td>1130</td>\n",
       "      <td>5870</td>\n",
       "      <td>8870</td>\n",
       "      <td>1870</td>\n",
       "      <td>1130</td>\n",
       "      <td>22270</td>\n",
       "      <td>222700</td>\n",
       "    </tr>\n",
       "    <tr>\n",
       "      <th>4</th>\n",
       "      <td>5</td>\n",
       "      <td>3600</td>\n",
       "      <td>1740</td>\n",
       "      <td>4560</td>\n",
       "      <td>7760</td>\n",
       "      <td>1560</td>\n",
       "      <td>1740</td>\n",
       "      <td>20960</td>\n",
       "      <td>209600</td>\n",
       "    </tr>\n",
       "  </tbody>\n",
       "</table>\n",
       "</div>"
      ],
      "text/plain": [
       "   month_number  facecream  facewash  toothpaste  bathingsoap  shampoo  \\\n",
       "0             1       2500      1500        5200         9200     1200   \n",
       "1             2       2630      1200        5100         6100     2100   \n",
       "2             3       2140      1340        4550         9550     3550   \n",
       "3             4       3400      1130        5870         8870     1870   \n",
       "4             5       3600      1740        4560         7760     1560   \n",
       "\n",
       "   moisturizer  total_units  total_profit  \n",
       "0         1500        21100        211000  \n",
       "1         1200        18330        183300  \n",
       "2         1340        22470        224700  \n",
       "3         1130        22270        222700  \n",
       "4         1740        20960        209600  "
      ]
     },
     "execution_count": 3,
     "metadata": {},
     "output_type": "execute_result"
    }
   ],
   "source": [
    "data = pd.read_csv('.\\company_sales_data.csv') # pour préciser le separateur on peut rajoute le param sep =; / etcccc\n",
    "data.head()"
   ]
  },
  {
   "cell_type": "markdown",
   "metadata": {},
   "source": [
    "Les lignes representent les différentes instances, clients et\n",
    "les colonnes representent les différents attributs des instances "
   ]
  },
  {
   "cell_type": "code",
   "execution_count": 4,
   "metadata": {
    "scrolled": true
   },
   "outputs": [
    {
     "data": {
      "text/plain": [
       "array([2500, 2630, 2140, 3400, 3600, 2760, 2980, 3700, 3540, 1990, 2340,\n",
       "       2900], dtype=int64)"
      ]
     },
     "execution_count": 4,
     "metadata": {},
     "output_type": "execute_result"
    }
   ],
   "source": [
    "a = np.array(data.facecream)\n",
    "a\n",
    "# res = 0\n",
    "# for i in a:\n",
    "#     res+=i\n",
    "\n",
    "# print(a)\n",
    "# print(\"somme : \"+str(res))\n",
    "# print(\"moyenne : \"+str(res/(len(a))))\n",
    "\n",
    "# X = np.array(data.month_number) \n",
    "# Y = np.array(data.total_units)\n",
    "# plt.plot(X,Y,'r-')\n",
    "\n",
    "# plt.show()"
   ]
  },
  {
   "cell_type": "markdown",
   "metadata": {},
   "source": [
    "Exo 6"
   ]
  },
  {
   "cell_type": "code",
   "execution_count": 107,
   "metadata": {},
   "outputs": [
    {
     "data": {
      "image/png": "[encoded data removed]",
      "text/plain": [
       "<Figure size 432x288 with 1 Axes>"
      ]
     },
     "metadata": {
      "needs_background": "light"
     },
     "output_type": "display_data"
    }
   ],
   "source": [
    "prof = np.array(data['total_profit'])\n",
    "\n",
    "X = np.array(data['month_number'])\n",
    "plt.plot(X,prof,'gx')\n",
    "plt.show()"
   ]
  }
 ],
 "metadata": {
  "celltoolbar": "Aucun(e)",
  "kernelspec": {
   "display_name": "Python 3",
   "language": "python",
   "name": "python3"
  },
  "language_info": {
   "codemirror_mode": {
    "name": "ipython",
    "version": 3
   },
   "file_extension": ".py",
   "mimetype": "text/x-python",
   "name": "python",
   "nbconvert_exporter": "python",
   "pygments_lexer": "ipython3",
   "version": "3.7.3"
  }
 },
 "nbformat": 4,
 "nbformat_minor": 2
}
