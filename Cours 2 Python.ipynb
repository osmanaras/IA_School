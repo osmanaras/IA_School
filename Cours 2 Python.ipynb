{
 "cells": [
  {
   "cell_type": "markdown",
   "metadata": {},
   "source": [
    "# Cours II Introduction a Python"
   ]
  },
  {
   "cell_type": "markdown",
   "metadata": {},
   "source": [
    "## I Les exceptions\n",
    "\n",
    "> En cas d'erreur dans le code, Python **lève une exception**. C'est son moyen d'indiquer qu'il y a une erreur. Une exception peut donner des informations sur l'erreur qui s'est produite, à savoir le **type d'erreur** ainsi qu'une **description de l'erreur**. *Exemple* :"
   ]
  },
  {
   "cell_type": "code",
   "execution_count": 73,
   "metadata": {},
   "outputs": [
    {
     "ename": "TypeError",
     "evalue": "can only concatenate list (not \"int\") to list",
     "output_type": "error",
     "traceback": [
      "\u001b[0;31m---------------------------------------------------------------------------\u001b[0m",
      "\u001b[0;31mTypeError\u001b[0m                                 Traceback (most recent call last)",
      "\u001b[0;32m<ipython-input-73-6bb546839d4e>\u001b[0m in \u001b[0;36m<module>\u001b[0;34m\u001b[0m\n\u001b[1;32m      1\u001b[0m \u001b[0mma_liste\u001b[0m \u001b[0;34m=\u001b[0m \u001b[0;34m[\u001b[0m\u001b[0;36m1\u001b[0m\u001b[0;34m,\u001b[0m\u001b[0;36m2\u001b[0m\u001b[0;34m,\u001b[0m\u001b[0;36m3\u001b[0m\u001b[0;34m]\u001b[0m\u001b[0;34m\u001b[0m\u001b[0;34m\u001b[0m\u001b[0m\n\u001b[0;32m----> 2\u001b[0;31m \u001b[0mma_liste\u001b[0m \u001b[0;34m+\u001b[0m \u001b[0;36m2\u001b[0m\u001b[0;34m\u001b[0m\u001b[0;34m\u001b[0m\u001b[0m\n\u001b[0m",
      "\u001b[0;31mTypeError\u001b[0m: can only concatenate list (not \"int\") to list"
     ]
    }
   ],
   "source": [
    "ma_liste = [1,2,3]\n",
    "ma_liste + 2"
   ]
  },
  {
   "cell_type": "markdown",
   "metadata": {},
   "source": [
    "- En premier lieu on observe le type de l'erreur qui s'est produite : il s'agit ici d'une\n",
    "  erreur de type, on sait donc qu'il y a un problème avec le type d'objets manipulés\n",
    "\n",
    "- En second lieu, la description de l'erreur fournit des détails supplémentaires : on ne peut pas\n",
    "  concaténer un list et un int"
   ]
  },
  {
   "cell_type": "markdown",
   "metadata": {},
   "source": [
    "> Il est possible de créer soi-même des exceptions de la façon suivante : "
   ]
  },
  {
   "cell_type": "code",
   "execution_count": null,
   "metadata": {},
   "outputs": [],
   "source": [
    "try ... :\n",
    "    instruction 1\n",
    "    instruction 2\n",
    "\n",
    "except ... : \n",
    "    instruction 1\n",
    "    ..."
   ]
  },
  {
   "cell_type": "code",
   "execution_count": 84,
   "metadata": {},
   "outputs": [
    {
     "name": "stdout",
     "output_type": "stream",
     "text": [
      "nombre n'est pas défini\n"
     ]
    }
   ],
   "source": [
    "#Concrètement :\n",
    "\n",
    "n = \"une chaine\"\n",
    "\n",
    "try:\n",
    "    print('nombre est-il pair ?', nombre % 2 == 0)\n",
    "    \n",
    "except TypeError:\n",
    "    print(\"Il faut entrer un nombre\")\n",
    "except NameError:\n",
    "    print(\"nombre n'est pas défini\")\n",
    "except ErreurInconnue:\n",
    "    pass                        #Si on a une erreur de ce type, on ne fait rien"
   ]
  },
  {
   "cell_type": "markdown",
   "metadata": {},
   "source": [
    "> Le mot clé **raise** permet de lever vos propres exceptions : "
   ]
  },
  {
   "cell_type": "code",
   "execution_count": 85,
   "metadata": {},
   "outputs": [
    {
     "ename": "ValueError",
     "evalue": "le nombre saisi est trop grand",
     "output_type": "error",
     "traceback": [
      "\u001b[0;31m---------------------------------------------------------------------------\u001b[0m",
      "\u001b[0;31mValueError\u001b[0m                                Traceback (most recent call last)",
      "\u001b[0;32m<ipython-input-85-8b41ced4080b>\u001b[0m in \u001b[0;36m<module>\u001b[0;34m\u001b[0m\n\u001b[1;32m      4\u001b[0m     \u001b[0mis_pair\u001b[0m \u001b[0;34m=\u001b[0m \u001b[0mn\u001b[0m \u001b[0;34m%\u001b[0m \u001b[0;36m2\u001b[0m \u001b[0;34m==\u001b[0m \u001b[0;36m0\u001b[0m\u001b[0;34m\u001b[0m\u001b[0;34m\u001b[0m\u001b[0m\n\u001b[1;32m      5\u001b[0m     \u001b[0;32mif\u001b[0m \u001b[0mn\u001b[0m \u001b[0;34m>\u001b[0m \u001b[0;36m1000\u001b[0m\u001b[0;34m:\u001b[0m\u001b[0;34m\u001b[0m\u001b[0;34m\u001b[0m\u001b[0m\n\u001b[0;32m----> 6\u001b[0;31m         \u001b[0;32mraise\u001b[0m \u001b[0mValueError\u001b[0m\u001b[0;34m(\u001b[0m\u001b[0;34m\"le nombre saisi est trop grand\"\u001b[0m\u001b[0;34m)\u001b[0m\u001b[0;34m\u001b[0m\u001b[0;34m\u001b[0m\u001b[0m\n\u001b[0m\u001b[1;32m      7\u001b[0m \u001b[0;32mexcept\u001b[0m \u001b[0mTypeError\u001b[0m\u001b[0;34m:\u001b[0m\u001b[0;34m\u001b[0m\u001b[0;34m\u001b[0m\u001b[0m\n\u001b[1;32m      8\u001b[0m     \u001b[0;32mpass\u001b[0m\u001b[0;34m\u001b[0m\u001b[0;34m\u001b[0m\u001b[0m\n",
      "\u001b[0;31mValueError\u001b[0m: le nombre saisi est trop grand"
     ]
    }
   ],
   "source": [
    "n = 2000\n",
    "\n",
    "try:\n",
    "    is_pair = n % 2 == 0\n",
    "    if n > 1000:\n",
    "        raise ValueError(\"le nombre saisi est trop grand\")\n",
    "except TypeError:\n",
    "    pass"
   ]
  },
  {
   "cell_type": "markdown",
   "metadata": {},
   "source": [
    "## II La modularité\n",
    "\n",
    "### 1) Les modules\n",
    "\n",
    "> Comme nous l'avons vu précédemment, il est possible d'appeler une fonction ou une variable définies au préalable au sein d'une nouvelle fonction. De même, il est possible d'appeler des objets (variables, fonctions, etc) définis dans d'autres fichiers python. Pour cela, il suffit **d'importer** le fichier ou le **module** contenant le code que nous souhaitons exploiter. Il existe plusieurs façons d'importer :"
   ]
  },
  {
   "cell_type": "code",
   "execution_count": 1,
   "metadata": {},
   "outputs": [
    {
     "data": {
      "text/plain": [
       "1.4142135623730951"
      ]
     },
     "execution_count": 1,
     "metadata": {},
     "output_type": "execute_result"
    }
   ],
   "source": [
    "import numpy      #On importe numpy téléchargé auparavant\n",
    "\n",
    "numpy.sqrt(2)     #On utilise la fonction sqrt (racine carré) de numpy en précisant le nom du module"
   ]
  },
  {
   "cell_type": "code",
   "execution_count": 3,
   "metadata": {},
   "outputs": [
    {
     "data": {
      "text/plain": [
       "1.4142135623730951"
      ]
     },
     "execution_count": 3,
     "metadata": {},
     "output_type": "execute_result"
    }
   ],
   "source": [
    "import numpy as np   #Presque identique à ce qui précède, on importe numpy et on s'y réfère en \n",
    "                     #utilisant le raccourci np\n",
    "\n",
    "np.sqrt(2)           #On appelle la fonction sqrt de numpy"
   ]
  },
  {
   "cell_type": "code",
   "execution_count": 2,
   "metadata": {},
   "outputs": [
    {
     "data": {
      "text/plain": [
       "1.4142135623730951"
      ]
     },
     "execution_count": 2,
     "metadata": {},
     "output_type": "execute_result"
    }
   ],
   "source": [
    "from numpy import sqrt   #Ici, depuis Numpy, on appelle simplement la fonction dont nous avons besoin\n",
    "\n",
    "sqrt(2)                  #On peut donc l'utiliser directement sans faire référence à son module d'appartenance"
   ]
  },
  {
   "cell_type": "code",
   "execution_count": 13,
   "metadata": {},
   "outputs": [
    {
     "data": {
      "text/plain": [
       "1.4142135623730951"
      ]
     },
     "execution_count": 13,
     "metadata": {},
     "output_type": "execute_result"
    }
   ],
   "source": [
    "from numpy import *   # Enfin cette syntaxe permet d'importer tout ce qui est contenu dans le module.\n",
    "                      # On peut donc appeler tout ce qui s'y trouve sans préciser que l'origine est numpy\n",
    "\n",
    "sqrt(2)"
   ]
  },
  {
   "cell_type": "markdown",
   "metadata": {},
   "source": [
    "> De la même façon, il est possible d'importer le code de vos propres fichiers .py de la façon suivante :\n"
   ]
  },
  {
   "cell_type": "code",
   "execution_count": null,
   "metadata": {},
   "outputs": [],
   "source": [
    "import monFichier\n",
    "from monFichier import maFonction\n",
    "\n",
    "..."
   ]
  },
  {
   "cell_type": "markdown",
   "metadata": {},
   "source": [
    "####  2) Les packages\n",
    "\n",
    "> En réalité, numpy est un package qui contient lui-même plusieurs modules ou plusieurs packages. Un package peut donc être traité comme un gros module (ce qu'on a fait précédemment). On peut aussi appeler ses sous-modules et sous-packages de la façon suivante : "
   ]
  },
  {
   "cell_type": "code",
   "execution_count": 9,
   "metadata": {},
   "outputs": [],
   "source": [
    "import torch    # Importe torch\n",
    "import torch.nn # Importe le sous package de torch \"nn\""
   ]
  },
  {
   "cell_type": "markdown",
   "metadata": {},
   "source": [
    ">Quand vous installez un module que vous ne connaissez pas, sa documentation offre toutes les informations nécessaires à son utilisation. La syntaxe suivante peut vous être utile :"
   ]
  },
  {
   "cell_type": "code",
   "execution_count": 16,
   "metadata": {},
   "outputs": [],
   "source": [
    "?numpy"
   ]
  },
  {
   "cell_type": "markdown",
   "metadata": {},
   "source": [
    "## III L'essentiel du data scientist\n",
    "\n",
    "### 1) Numpy \n",
    "\n",
    "> Numpy est un module scientifique. Il contient de nombreuses fonctions et constantes qui sont utiles dès lors que l'on fait des calculs complexes.\n",
    "> Plus important, Numpy permet d'utiliser une structure particulière, les *tableaux numpy* ou *numpy array* avec lesquels de nombreuses opérations sur ces tableaux sont fournies. Par exemple :"
   ]
  },
  {
   "cell_type": "code",
   "execution_count": 17,
   "metadata": {},
   "outputs": [
    {
     "data": {
      "text/plain": [
       "array([1, 2, 3, 4])"
      ]
     },
     "execution_count": 17,
     "metadata": {},
     "output_type": "execute_result"
    }
   ],
   "source": [
    "import numpy as np\n",
    "\n",
    "n_array = np.array([1,2,3,4])\n",
    "n_array"
   ]
  },
  {
   "cell_type": "markdown",
   "metadata": {},
   "source": [
    "#### a) Les tableaux numpy\n",
    "\n",
    "> Il existe de multiples façons de créer un np.array. Leur création fonctionne un peu comme celle des listes, sauf qu'ils ne peuvent contenir que des objets du même type : "
   ]
  },
  {
   "cell_type": "code",
   "execution_count": 24,
   "metadata": {},
   "outputs": [
    {
     "data": {
      "text/plain": [
       "array(['1', '2', 'chaine de car'], dtype='<U21')"
      ]
     },
     "execution_count": 24,
     "metadata": {},
     "output_type": "execute_result"
    }
   ],
   "source": [
    "arr = np.array([1,2,\"chaine de car\"])\n",
    "arr"
   ]
  },
  {
   "cell_type": "code",
   "execution_count": 25,
   "metadata": {},
   "outputs": [],
   "source": [
    "#Les entiers sont donc automatiquement convertis en str.\n",
    "#De même, si vous mélangez des entiers et des float, vous obtiendrez un tableau de float. etc."
   ]
  },
  {
   "cell_type": "code",
   "execution_count": 27,
   "metadata": {},
   "outputs": [
    {
     "data": {
      "text/plain": [
       "array([0., 0., 0., 0., 0., 0., 0., 0., 0., 0.])"
      ]
     },
     "execution_count": 27,
     "metadata": {},
     "output_type": "execute_result"
    }
   ],
   "source": [
    "arr = np.zeros(10)\n",
    "arr"
   ]
  },
  {
   "cell_type": "code",
   "execution_count": 34,
   "metadata": {},
   "outputs": [
    {
     "data": {
      "text/plain": [
       "array([0, 1, 2, 3, 4, 5, 6, 7, 8, 9])"
      ]
     },
     "execution_count": 34,
     "metadata": {},
     "output_type": "execute_result"
    }
   ],
   "source": [
    "arr = np.arange(10)\n",
    "arr"
   ]
  },
  {
   "cell_type": "code",
   "execution_count": 57,
   "metadata": {},
   "outputs": [
    {
     "name": "stdout",
     "output_type": "stream",
     "text": [
      "2 [2 3 4] 10 2.5 1.25\n",
      "[9 8 7 6 5 4 3 2 1 0]\n"
     ]
    },
    {
     "data": {
      "text/plain": [
       "array([ 0,  1,  2,  3,  4,  5,  6,  7,  8,  9, 99])"
      ]
     },
     "execution_count": 57,
     "metadata": {},
     "output_type": "execute_result"
    }
   ],
   "source": [
    "# Tout comme les listes, les np array ont leurs propres fonctions prédéfinies\n",
    "\n",
    "print(arr[2], arr[2:5], n_array.sum(),n_array.mean(),n_array.var())\n",
    "print(np.flip(arr))\n",
    "np.append(arr,99)"
   ]
  },
  {
   "cell_type": "markdown",
   "metadata": {},
   "source": [
    ">Les tableaux peuvent être multidimensionnels. On peut les penser comme des vecteurs en dimension 1 et comme des matrices en dimension 2. On peut donc appliquer des opérations matricielles dessus."
   ]
  },
  {
   "cell_type": "code",
   "execution_count": 63,
   "metadata": {},
   "outputs": [
    {
     "name": "stdout",
     "output_type": "stream",
     "text": [
      "[[1. 0. 0. 0.]\n",
      " [0. 1. 0. 0.]\n",
      " [0. 0. 1. 0.]\n",
      " [0. 0. 0. 1.]]\n",
      "\n",
      "\n",
      "[[3. 0. 0. 0.]\n",
      " [0. 3. 0. 0.]\n",
      " [0. 0. 3. 0.]\n",
      " [0. 0. 0. 3.]]\n",
      "\n",
      "\n",
      "[[7. 6. 6. 6.]\n",
      " [6. 7. 6. 6.]\n",
      " [6. 6. 7. 6.]\n",
      " [6. 6. 6. 7.]]\n"
     ]
    }
   ],
   "source": [
    "mat = np.eye(4)\n",
    "\n",
    "print(mat)\n",
    "\n",
    "print(\"\\n\")\n",
    "\n",
    "print(mat*3) #La matrice multipliée par 3\n",
    "\n",
    "print(\"\\n\")\n",
    "\n",
    "print(mat + 6)  #La matrice à laquelle on ajoute 6"
   ]
  },
  {
   "cell_type": "code",
   "execution_count": 44,
   "metadata": {},
   "outputs": [
    {
     "data": {
      "text/plain": [
       "array([[0., 0., 0.],\n",
       "       [0., 0., 0.]])"
      ]
     },
     "execution_count": 44,
     "metadata": {},
     "output_type": "execute_result"
    }
   ],
   "source": [
    "mat2 = np.zeros((2,3), dtype = double) #Une matrice de dimensions 2*3\n",
    "mat2"
   ]
  },
  {
   "cell_type": "code",
   "execution_count": 58,
   "metadata": {},
   "outputs": [
    {
     "data": {
      "text/plain": [
       "array([2, 3, 4])"
      ]
     },
     "execution_count": 58,
     "metadata": {},
     "output_type": "execute_result"
    }
   ],
   "source": [
    "mat = np.array([[2,3,4],[5,6,7]])\n",
    "mat[0]                #Permet d'accéder au premier élément de mat, lui-même un np_array"
   ]
  },
  {
   "cell_type": "code",
   "execution_count": 59,
   "metadata": {},
   "outputs": [
    {
     "data": {
      "text/plain": [
       "3"
      ]
     },
     "execution_count": 59,
     "metadata": {},
     "output_type": "execute_result"
    }
   ],
   "source": [
    "mat[0][1]              #On accéde au deuxieme element de mat[0]"
   ]
  },
  {
   "cell_type": "markdown",
   "metadata": {},
   "source": [
    "####  b) Les dimensions\n",
    "\n",
    "> Quand on manipule des np array, il faut toujours se demander selon quelle dimension nous souhaitons faire les calculs. Par exemple, si l'on veut échanger les éléments d'une matrice, le faire par lignes (dimension 0) ou par colonnes (dimension 3) est différent. **Ainsi, la plupart des fonctions de tableaux (qu'on appelle *méthodes*) prennent comme argument l'axe selon lequel on veut faire l'opération**."
   ]
  },
  {
   "cell_type": "code",
   "execution_count": 53,
   "metadata": {},
   "outputs": [
    {
     "data": {
      "text/plain": [
       "array([[ 2,  7,  4],\n",
       "       [-2,  3,  1]])"
      ]
     },
     "execution_count": 53,
     "metadata": {},
     "output_type": "execute_result"
    }
   ],
   "source": [
    "arr_test = np.array([[2,7,4],[-2,3,1]])\n",
    "arr_test\n",
    "print(arr_test[0])"
   ]
  },
  {
   "cell_type": "code",
   "execution_count": 55,
   "metadata": {},
   "outputs": [
    {
     "data": {
      "text/plain": [
       "array([[-2,  3,  1],\n",
       "       [ 2,  7,  4]])"
      ]
     },
     "execution_count": 55,
     "metadata": {},
     "output_type": "execute_result"
    }
   ],
   "source": [
    "new = np.flip(arr_test, axis = 0) # On a inversé la ligne du haut et la ligne du bas qui sont \n",
    "new                               # les deux éléments de la dimension 0"
   ]
  },
  {
   "cell_type": "code",
   "execution_count": 56,
   "metadata": {},
   "outputs": [
    {
     "data": {
      "text/plain": [
       "array([[ 4,  7,  2],\n",
       "       [ 1,  3, -2]])"
      ]
     },
     "execution_count": 56,
     "metadata": {},
     "output_type": "execute_result"
    }
   ],
   "source": [
    "np.flip(arr_test, axis = 1) # On a inversé les 3 éléments de la ligne 1 entre eux, idem pour la ligne 2"
   ]
  },
  {
   "cell_type": "code",
   "execution_count": 67,
   "metadata": {},
   "outputs": [
    {
     "name": "stdout",
     "output_type": "stream",
     "text": [
      "[[ 1. -0.  0. -0.]\n",
      " [ 0. -1.  0. -0.]\n",
      " [ 0. -0.  2. -0.]\n",
      " [ 0. -0.  0. -1.]]\n",
      "\n",
      "\n",
      "[ 1. -1.  2. -1.]\n"
     ]
    }
   ],
   "source": [
    "#ATTENTION DONC QUAND ON MULTIPLIE OU QUAND ON SOMME DES TABLEAUX NUMPY : \n",
    "\n",
    "vect = np.array([1,-1,2,-1])\n",
    "mat = np.eye(4)\n",
    "\n",
    "print(mat*vect)  #La colonne i de mat est multipliée par l'élément i de vect\n",
    "\n",
    "print(\"\\n\")\n",
    "\n",
    "print(mat.dot(vect))  #Ici il s'agit bien d'une opération matricielle classique"
   ]
  },
  {
   "cell_type": "markdown",
   "metadata": {},
   "source": [
    "##  2) Matplotlib\n",
    "\n",
    ">Matplotlib est une bibliothèque permettant principalement d'afficher vos résultats sous forme graphique (graphe 2D, histogrammes, etc). Nous utilisons en particulier matplotlib.pyplot"
   ]
  },
  {
   "cell_type": "code",
   "execution_count": 72,
   "metadata": {},
   "outputs": [
    {
     "data": {
      "image/png": "[encoded data removed]",
      "text/plain": [
       "<Figure size 432x288 with 1 Axes>"
      ]
     },
     "metadata": {
      "needs_background": "light"
     },
     "output_type": "display_data"
    }
   ],
   "source": [
    "import matplotlib.pyplot as plt\n",
    "\n",
    "abscisse = np.arange(10)\n",
    "ordonne = np.arange(10) * 2\n",
    "\n",
    "plt.plot(abscisse, ordonne, label = \"f(x) = 2x\")\n",
    "plt.title('Une fonction linéaire')\n",
    "plt.xlabel('abscisses')\n",
    "plt.ylabel('ordonnés')\n",
    "plt.show()"
   ]
  },
  {
   "cell_type": "markdown",
   "metadata": {},
   "source": [
    "> Comme vous vous en doutez sûrement, cette bibliothèque inclut des centaines de fonctions et de paramètres qui permettent d'afficher à peu près tout et n'importe quoi."
   ]
  },
  {
   "cell_type": "markdown",
   "metadata": {},
   "source": [
    "### 3) Pandas "
   ]
  },
  {
   "cell_type": "markdown",
   "metadata": {},
   "source": [
    "> Nous remplirons le cours ensemble. A vous de vous débrouiller pour trouver les informations pertinentes !"
   ]
  }
 ],
 "metadata": {
  "kernelspec": {
   "display_name": "Python 3",
   "language": "python",
   "name": "python3"
  },
  "language_info": {
   "codemirror_mode": {
    "name": "ipython",
    "version": 3
   },
   "file_extension": ".py",
   "mimetype": "text/x-python",
   "name": "python",
   "nbconvert_exporter": "python",
   "pygments_lexer": "ipython3",
   "version": "3.7.3"
  }
 },
 "nbformat": 4,
 "nbformat_minor": 2
}
